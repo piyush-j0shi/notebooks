{
  "nbformat": 4,
  "nbformat_minor": 0,
  "metadata": {
    "colab": {
      "provenance": []
    },
    "kernelspec": {
      "name": "python3",
      "display_name": "Python 3"
    },
    "language_info": {
      "name": "python"
    }
  },
  "cells": [
    {
      "cell_type": "code",
      "execution_count": 7,
      "metadata": {
        "id": "3ih34qN-E8qa"
      },
      "outputs": [],
      "source": [
        "import torch\n",
        "from torch.utils.data import Dataset\n",
        "from torchvision import datasets\n",
        "from torchvision.transforms import ToTensor\n",
        "import matplotlib.pyplot as plt"
      ]
    },
    {
      "cell_type": "code",
      "source": [
        "training_data = datasets.FashionMNIST(\n",
        "    root = \"data\",\n",
        "    train = True,\n",
        "    download = True,\n",
        "    transform = ToTensor()\n",
        ")\n",
        "\n",
        "testing_data = datasets.FashionMNIST(\n",
        "    root = \"data\",\n",
        "    train = False,\n",
        "    download = True,\n",
        "    transform = ToTensor()\n",
        ")"
      ],
      "metadata": {
        "colab": {
          "base_uri": "https://localhost:8080/"
        },
        "id": "BIg1LjmKFFEH",
        "outputId": "93806922-7340-444c-fb09-dca74038972b"
      },
      "execution_count": 3,
      "outputs": [
        {
          "output_type": "stream",
          "name": "stderr",
          "text": [
            "100%|██████████| 26.4M/26.4M [00:01<00:00, 13.3MB/s]\n",
            "100%|██████████| 29.5k/29.5k [00:00<00:00, 216kB/s]\n",
            "100%|██████████| 4.42M/4.42M [00:01<00:00, 3.95MB/s]\n",
            "100%|██████████| 5.15k/5.15k [00:00<00:00, 6.77MB/s]\n"
          ]
        }
      ]
    },
    {
      "cell_type": "markdown",
      "source": [
        "```creating a custom Dataset for your files```"
      ],
      "metadata": {
        "id": "nckL56RUF07z"
      }
    },
    {
      "cell_type": "code",
      "source": [
        "import os\n",
        "import pandas as pd\n",
        "from PIL import Image\n",
        "\n",
        "class CustomImageDataset(Dataset):\n",
        "    def __init__(self, annotations_file, image_dir, transform = None, target_transform = None):\n",
        "        self.image_lables = pd.read_csv(annotations_file)\n",
        "        self.image_dir = image_dir\n",
        "        self.transform = transform\n",
        "        self.target_transform = target_transform\n",
        "\n",
        "    def __len__(self):\n",
        "        return len(self.image_lables)\n",
        "\n",
        "    def __getitem__(self, idx):\n",
        "        image_path = os.path.join(self.image_dir, self.image_lables.iloc[idx, 0])\n",
        "        image = Image(image_path)\n",
        "        label = self.image_lables.iloc[idx, 1]\n",
        "\n",
        "        if self.transform:\n",
        "            image = self.transform(image)\n",
        "\n",
        "        if self.target_transform:\n",
        "            label = self.target_transform(label)\n",
        "\n",
        "        return image, label"
      ],
      "metadata": {
        "id": "Jvh6JUUcF61w"
      },
      "execution_count": 5,
      "outputs": []
    },
    {
      "cell_type": "markdown",
      "source": [
        "\n",
        "\n",
        "```\n",
        "PyTorch DataLoader\n",
        "```\n",
        "\n"
      ],
      "metadata": {
        "id": "PpadHWq_HvJE"
      }
    },
    {
      "cell_type": "code",
      "source": [
        "from torch.utils.data import DataLoader\n",
        "\n",
        "train_loader = DataLoader(training_data, batch_size = 64, shuffle = True)\n",
        "test_loader = DataLoader(testing_data, batch_size = 64, shuffle = True)"
      ],
      "metadata": {
        "id": "3PlbynMOHOPv"
      },
      "execution_count": 6,
      "outputs": []
    },
    {
      "cell_type": "markdown",
      "source": [
        "\n",
        "\n",
        "```\n",
        "Iterarte through the DataLoaders\n",
        "```\n",
        "\n"
      ],
      "metadata": {
        "id": "yTou3q8LK6w8"
      }
    },
    {
      "cell_type": "code",
      "source": [
        "train_features, train_actuals = next(iter(train_loader))\n",
        "print(f\"features batch shape: {train_features.size()}\")\n",
        "print(f\"labels batch shape : {train_actuals.size()}\")\n",
        "\n",
        "img = train_features[0].squeeze()\n",
        "label = train_actuals[0]\n",
        "\n",
        "plt.imshow(img, cmap = \"gray\")\n",
        "plt.show()\n",
        "\n",
        "print(f\"label : {label}\")"
      ],
      "metadata": {
        "colab": {
          "base_uri": "https://localhost:8080/",
          "height": 483
        },
        "id": "qs5STUhaIO9p",
        "outputId": "85ae2cb8-0f47-4d9c-8bb7-43b456d059b2"
      },
      "execution_count": 11,
      "outputs": [
        {
          "output_type": "stream",
          "name": "stdout",
          "text": [
            "features batch shape: torch.Size([64, 1, 28, 28])\n",
            "labels batch shape : torch.Size([64])\n"
          ]
        },
        {
          "output_type": "display_data",
          "data": {
            "text/plain": [
              "<Figure size 640x480 with 1 Axes>"
            ],
            "image/png": "[encoded data removed]"
          },
          "metadata": {}
        },
        {
          "output_type": "stream",
          "name": "stdout",
          "text": [
            "label : 7\n"
          ]
        }
      ]
    },
    {
      "cell_type": "code",
      "source": [],
      "metadata": {
        "id": "N6V_pdKOLhnb"
      },
      "execution_count": null,
      "outputs": []
    }
  ]
}